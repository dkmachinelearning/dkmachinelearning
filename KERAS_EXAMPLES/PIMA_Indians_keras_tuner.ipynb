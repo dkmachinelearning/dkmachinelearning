{
  "nbformat": 4,
  "nbformat_minor": 0,
  "metadata": {
    "colab": {
      "provenance": [],
      "authorship_tag": "ABX9TyNdS+gQ6+PoTEKTwxLawFCp",
      "include_colab_link": true
    },
    "kernelspec": {
      "name": "python3",
      "display_name": "Python 3"
    },
    "language_info": {
      "name": "python"
    }
  },
  "cells": [
    {
      "cell_type": "markdown",
      "metadata": {
        "id": "view-in-github",
        "colab_type": "text"
      },
      "source": [
        "<a href=\"https://colab.research.google.com/github/dkmachinelearning/dkmachinelearning/blob/main/KERAS_EXAMPLES/PIMA_Indians_keras_tuner.ipynb\" target=\"_parent\"><img src=\"https://colab.research.google.com/assets/colab-badge.svg\" alt=\"Open In Colab\"/></a>"
      ]
    },
    {
      "cell_type": "code",
      "source": [
        "#pip install keras-tuner"
      ],
      "metadata": {
        "colab": {
          "base_uri": "https://localhost:8080/"
        },
        "id": "zrVafcZFIEYX",
        "outputId": "3a29918f-663a-4a71-af41-f86f19cdfe88"
      },
      "execution_count": 2,
      "outputs": [
        {
          "output_type": "stream",
          "name": "stdout",
          "text": [
            "Collecting keras-tuner\n",
            "  Downloading keras_tuner-1.4.7-py3-none-any.whl.metadata (5.4 kB)\n",
            "Requirement already satisfied: keras in /usr/local/lib/python3.10/dist-packages (from keras-tuner) (3.5.0)\n",
            "Requirement already satisfied: packaging in /usr/local/lib/python3.10/dist-packages (from keras-tuner) (24.2)\n",
            "Requirement already satisfied: requests in /usr/local/lib/python3.10/dist-packages (from keras-tuner) (2.32.3)\n",
            "Collecting kt-legacy (from keras-tuner)\n",
            "  Downloading kt_legacy-1.0.5-py3-none-any.whl.metadata (221 bytes)\n",
            "Requirement already satisfied: absl-py in /usr/local/lib/python3.10/dist-packages (from keras->keras-tuner) (1.4.0)\n",
            "Requirement already satisfied: numpy in /usr/local/lib/python3.10/dist-packages (from keras->keras-tuner) (1.26.4)\n",
            "Requirement already satisfied: rich in /usr/local/lib/python3.10/dist-packages (from keras->keras-tuner) (13.9.4)\n",
            "Requirement already satisfied: namex in /usr/local/lib/python3.10/dist-packages (from keras->keras-tuner) (0.0.8)\n",
            "Requirement already satisfied: h5py in /usr/local/lib/python3.10/dist-packages (from keras->keras-tuner) (3.12.1)\n",
            "Requirement already satisfied: optree in /usr/local/lib/python3.10/dist-packages (from keras->keras-tuner) (0.13.1)\n",
            "Requirement already satisfied: ml-dtypes in /usr/local/lib/python3.10/dist-packages (from keras->keras-tuner) (0.4.1)\n",
            "Requirement already satisfied: charset-normalizer<4,>=2 in /usr/local/lib/python3.10/dist-packages (from requests->keras-tuner) (3.4.0)\n",
            "Requirement already satisfied: idna<4,>=2.5 in /usr/local/lib/python3.10/dist-packages (from requests->keras-tuner) (3.10)\n",
            "Requirement already satisfied: urllib3<3,>=1.21.1 in /usr/local/lib/python3.10/dist-packages (from requests->keras-tuner) (2.2.3)\n",
            "Requirement already satisfied: certifi>=2017.4.17 in /usr/local/lib/python3.10/dist-packages (from requests->keras-tuner) (2024.8.30)\n",
            "Requirement already satisfied: typing-extensions>=4.5.0 in /usr/local/lib/python3.10/dist-packages (from optree->keras->keras-tuner) (4.12.2)\n",
            "Requirement already satisfied: markdown-it-py>=2.2.0 in /usr/local/lib/python3.10/dist-packages (from rich->keras->keras-tuner) (3.0.0)\n",
            "Requirement already satisfied: pygments<3.0.0,>=2.13.0 in /usr/local/lib/python3.10/dist-packages (from rich->keras->keras-tuner) (2.18.0)\n",
            "Requirement already satisfied: mdurl~=0.1 in /usr/local/lib/python3.10/dist-packages (from markdown-it-py>=2.2.0->rich->keras->keras-tuner) (0.1.2)\n",
            "Downloading keras_tuner-1.4.7-py3-none-any.whl (129 kB)\n",
            "\u001b[2K   \u001b[90m━━━━━━━━━━━━━━━━━━━━━━━━━━━━━━━━━━━━━━━━\u001b[0m \u001b[32m129.1/129.1 kB\u001b[0m \u001b[31m2.4 MB/s\u001b[0m eta \u001b[36m0:00:00\u001b[0m\n",
            "\u001b[?25hDownloading kt_legacy-1.0.5-py3-none-any.whl (9.6 kB)\n",
            "Installing collected packages: kt-legacy, keras-tuner\n",
            "Successfully installed keras-tuner-1.4.7 kt-legacy-1.0.5\n"
          ]
        }
      ]
    },
    {
      "cell_type": "code",
      "execution_count": 3,
      "metadata": {
        "id": "mif-9SzJHox-"
      },
      "outputs": [],
      "source": [
        "import keras_tuner as kt\n",
        "import tensorflow as tf\n",
        "import tensorflow_datasets as tfds\n",
        "\n"
      ]
    },
    {
      "cell_type": "code",
      "source": [
        "(img_train, label_train), (img_test, label_test) = tf.keras.datasets.fashion_mnist.load_data()\n",
        "train_ds = tf.data.Dataset.from_tensor_slices((img_train/255.0, label_train)).batch(32)\n",
        "test_ds = tf.data.Dataset.from_tensor_slices((img_test/255.0, label_test)).batch(32)\n",
        "\n"
      ],
      "metadata": {
        "colab": {
          "base_uri": "https://localhost:8080/"
        },
        "id": "JiliKz4kHzp9",
        "outputId": "a93201fd-2128-41d8-dd13-9c3e29d8b9df"
      },
      "execution_count": 4,
      "outputs": [
        {
          "output_type": "stream",
          "name": "stdout",
          "text": [
            "Downloading data from https://storage.googleapis.com/tensorflow/tf-keras-datasets/train-labels-idx1-ubyte.gz\n",
            "\u001b[1m29515/29515\u001b[0m \u001b[32m━━━━━━━━━━━━━━━━━━━━\u001b[0m\u001b[37m\u001b[0m \u001b[1m0s\u001b[0m 0us/step\n",
            "Downloading data from https://storage.googleapis.com/tensorflow/tf-keras-datasets/train-images-idx3-ubyte.gz\n",
            "\u001b[1m26421880/26421880\u001b[0m \u001b[32m━━━━━━━━━━━━━━━━━━━━\u001b[0m\u001b[37m\u001b[0m \u001b[1m0s\u001b[0m 0us/step\n",
            "Downloading data from https://storage.googleapis.com/tensorflow/tf-keras-datasets/t10k-labels-idx1-ubyte.gz\n",
            "\u001b[1m5148/5148\u001b[0m \u001b[32m━━━━━━━━━━━━━━━━━━━━\u001b[0m\u001b[37m\u001b[0m \u001b[1m0s\u001b[0m 0us/step\n",
            "Downloading data from https://storage.googleapis.com/tensorflow/tf-keras-datasets/t10k-images-idx3-ubyte.gz\n",
            "\u001b[1m4422102/4422102\u001b[0m \u001b[32m━━━━━━━━━━━━━━━━━━━━\u001b[0m\u001b[37m\u001b[0m \u001b[1m0s\u001b[0m 0us/step\n"
          ]
        }
      ]
    },
    {
      "cell_type": "code",
      "source": [
        "inputs = tf.keras.Input(shape=(28, 28), batch_size=32)\n",
        "flatten_layer = tf.keras.layers.Flatten()(inputs)\n",
        "dense = tf.keras.layers.Dense(units=512, activation='relu')(flatten_layer)\n",
        "outputs = tf.keras.layers.Dense(units=10)(dense)\n",
        "\n"
      ],
      "metadata": {
        "id": "QuqjuRRyH1Cm"
      },
      "execution_count": 5,
      "outputs": []
    },
    {
      "cell_type": "code",
      "source": [
        "model = tf.keras.Model(inputs=inputs, outputs=outputs)\n",
        "model.compile(optimizer=tf.keras.optimizers.Adam(learning_rate=0.01),\n",
        "              loss=tf.keras.losses.SparseCategoricalCrossentropy(from_logits=True),\n",
        "              metrics=['accuracy'])"
      ],
      "metadata": {
        "id": "sWJxK-yxH2VI"
      },
      "execution_count": 6,
      "outputs": []
    },
    {
      "cell_type": "code",
      "source": [
        "def build_model(hp):\n",
        "    dnn_layers_ss = [1,2,3]\n",
        "    dnn_units_min, dnn_units_max = 32, 512\n",
        "    dropout_ss = [0.1, 0.2]\n",
        "    active_func_ss = ['relu', 'tanh']\n",
        "    optimizer_ss = ['adam']\n",
        "    lr_min, lr_max = 1e-4, 1e-1\n",
        "\n",
        "    active_func = hp.Choice('activation', active_func_ss)\n",
        "    optimizer = hp.Choice('optimizer', optimizer_ss)\n",
        "    lr = hp.Float('learning_rate', min_value=lr_min, max_value=lr_max, sampling='log')\n",
        "\n",
        "    inputs = tf.keras.Input(shape=(28,28))\n",
        "    flatten_layer = tf.keras.layers.Flatten()(inputs)\n",
        "\n",
        "    # create hidden layers\n",
        "    dnn_units = hp.Int(f\"0_units\", min_value=dnn_units_min, max_value=dnn_units_max)\n",
        "    dense = tf.keras.layers.Dense(units=dnn_units, activation=active_func)(flatten_layer)\n",
        "    for layer_i in range(hp.Choice(\"n_layers\", dnn_layers_ss) - 1):\n",
        "        dnn_units = hp.Int(f\"{layer_i}_units\", min_value=dnn_units_min, max_value=dnn_units_max)\n",
        "        dense = tf.keras.layers.Dense(units=dnn_units, activation=active_func)(dense)\n",
        "        if hp.Boolean(\"dropout\"):\n",
        "            dense = tf.keras.layers.Dropout(rate=0.25)(dense)\n",
        "    outputs = tf.keras.layers.Dense(units=10)(dense)\n",
        "    model = tf.keras.Model(inputs=inputs, outputs=outputs)\n",
        "\n",
        "    if optimizer == \"adam\":\n",
        "        optimizer = tf.keras.optimizers.Adam(learning_rate=lr)\n",
        "    elif optimizer == \"SGD\":\n",
        "        optimizer = tf.keras.optimizers.SGD(learning_rate=lr)\n",
        "    else:\n",
        "        raise(\"Not supported optimizer\")\n",
        "\n",
        "    model.compile(optimizer=optimizer,\n",
        "                  loss=tf.keras.losses.SparseCategoricalCrossentropy(from_logits=True),\n",
        "                  metrics=['accuracy'])\n",
        "    return model"
      ],
      "metadata": {
        "id": "ZeNUm1xeH3FJ"
      },
      "execution_count": 7,
      "outputs": []
    },
    {
      "cell_type": "code",
      "source": [
        "def build_tuner(model, hpo_method, objective, dir_name):\n",
        "    if hpo_method == \"RandomSearch\":\n",
        "        tuner = kt.RandomSearch(model, objective=objective, max_trials=3, executions_per_trial=1,\n",
        "                               project_name=hpo_method, directory=dir_name)\n",
        "    elif hpo_method == \"Hyperband\":\n",
        "        tuner = kt.Hyperband(model, objective=objective, max_epochs=3, executions_per_trial=1,\n",
        "                            project_name=hpo_method, directory=dir_name)\n",
        "    elif hpo_method == \"BayesianOptimization\":\n",
        "        tuner = kt.BayesianOptimization(model, objective=objective, max_trials=3, executions_per_trial=1,\n",
        "                                       project_name=hpo_method, directory=dir_name)\n",
        "    return tuner\n",
        "\n",
        "obj = kt.Objective('val_accuracy', direction='max')\n",
        "dir_name = \"v1\"\n",
        "randomsearch_tuner = build_tuner(build_model, \"Hyperband\", obj, dir_name)\n",
        "randomsearch_tuner.search(train_ds, epochs=3, validation_data=test_ds)"
      ],
      "metadata": {
        "colab": {
          "base_uri": "https://localhost:8080/"
        },
        "id": "6f3c5C2mH7As",
        "outputId": "17c73cde-0201-47db-e08d-41903f43b1b7"
      },
      "execution_count": 12,
      "outputs": [
        {
          "output_type": "stream",
          "name": "stdout",
          "text": [
            "Trial 6 Complete [00h 01m 58s]\n",
            "val_accuracy: 0.8392999768257141\n",
            "\n",
            "Best val_accuracy So Far: 0.8715999722480774\n",
            "Total elapsed time: 00h 05m 46s\n"
          ]
        }
      ]
    },
    {
      "cell_type": "code",
      "source": [
        "total_ds = train_ds.concatenate(test_ds)\n",
        "best_model = build_model(randomsearch_tuner.get_best_hyperparameters(1)[0])\n",
        "best_model.fit(total_ds, epochs=10)"
      ],
      "metadata": {
        "colab": {
          "base_uri": "https://localhost:8080/"
        },
        "id": "6I_riUvWH-yI",
        "outputId": "54e8a225-4dba-4824-ac6a-b67b5f57a105"
      },
      "execution_count": null,
      "outputs": [
        {
          "output_type": "stream",
          "name": "stdout",
          "text": [
            "Epoch 1/10\n",
            "\u001b[1m2188/2188\u001b[0m \u001b[32m━━━━━━━━━━━━━━━━━━━━\u001b[0m\u001b[37m\u001b[0m \u001b[1m36s\u001b[0m 16ms/step - accuracy: 0.7845 - loss: 0.6098\n",
            "Epoch 2/10\n",
            "\u001b[1m 481/2188\u001b[0m \u001b[32m━━━━\u001b[0m\u001b[37m━━━━━━━━━━━━━━━━\u001b[0m \u001b[1m26s\u001b[0m 15ms/step - accuracy: 0.8627 - loss: 0.3626"
          ]
        }
      ]
    }
  ]
}