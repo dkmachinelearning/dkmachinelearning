{
  "nbformat": 4,
  "nbformat_minor": 0,
  "metadata": {
    "colab": {
      "provenance": [],
      "authorship_tag": "ABX9TyNWeBl/6J40nrHKPFm6cpqw",
      "include_colab_link": true
    },
    "kernelspec": {
      "name": "python3",
      "display_name": "Python 3"
    },
    "language_info": {
      "name": "python"
    }
  },
  "cells": [
    {
      "cell_type": "markdown",
      "metadata": {
        "id": "view-in-github",
        "colab_type": "text"
      },
      "source": [
        "<a href=\"https://colab.research.google.com/github/dkmachinelearning/dkmachinelearning/blob/main/NLP/NLP_Transformers_.ipynb\" target=\"_parent\"><img src=\"https://colab.research.google.com/assets/colab-badge.svg\" alt=\"Open In Colab\"/></a>"
      ]
    },
    {
      "cell_type": "code",
      "source": [
        "#https://medium.com/@siladityaghosh/exploring-large-language-models-llms-32fd42ace15d\n",
        "#pip install transformers"
      ],
      "metadata": {
        "colab": {
          "base_uri": "https://localhost:8080/"
        },
        "id": "ubwfiuMsVHuY",
        "outputId": "560618e2-a04e-4676-e1cf-ba456dc6a363"
      },
      "execution_count": 17,
      "outputs": [
        {
          "output_type": "stream",
          "name": "stdout",
          "text": [
            "Requirement already satisfied: transformers in /usr/local/lib/python3.10/dist-packages (4.44.2)\n",
            "Requirement already satisfied: filelock in /usr/local/lib/python3.10/dist-packages (from transformers) (3.16.1)\n",
            "Requirement already satisfied: huggingface-hub<1.0,>=0.23.2 in /usr/local/lib/python3.10/dist-packages (from transformers) (0.24.7)\n",
            "Requirement already satisfied: numpy>=1.17 in /usr/local/lib/python3.10/dist-packages (from transformers) (1.26.4)\n",
            "Requirement already satisfied: packaging>=20.0 in /usr/local/lib/python3.10/dist-packages (from transformers) (24.1)\n",
            "Requirement already satisfied: pyyaml>=5.1 in /usr/local/lib/python3.10/dist-packages (from transformers) (6.0.2)\n",
            "Requirement already satisfied: regex!=2019.12.17 in /usr/local/lib/python3.10/dist-packages (from transformers) (2024.9.11)\n",
            "Requirement already satisfied: requests in /usr/local/lib/python3.10/dist-packages (from transformers) (2.32.3)\n",
            "Requirement already satisfied: safetensors>=0.4.1 in /usr/local/lib/python3.10/dist-packages (from transformers) (0.4.5)\n",
            "Requirement already satisfied: tokenizers<0.20,>=0.19 in /usr/local/lib/python3.10/dist-packages (from transformers) (0.19.1)\n",
            "Requirement already satisfied: tqdm>=4.27 in /usr/local/lib/python3.10/dist-packages (from transformers) (4.66.6)\n",
            "Requirement already satisfied: fsspec>=2023.5.0 in /usr/local/lib/python3.10/dist-packages (from huggingface-hub<1.0,>=0.23.2->transformers) (2024.10.0)\n",
            "Requirement already satisfied: typing-extensions>=3.7.4.3 in /usr/local/lib/python3.10/dist-packages (from huggingface-hub<1.0,>=0.23.2->transformers) (4.12.2)\n",
            "Requirement already satisfied: charset-normalizer<4,>=2 in /usr/local/lib/python3.10/dist-packages (from requests->transformers) (3.4.0)\n",
            "Requirement already satisfied: idna<4,>=2.5 in /usr/local/lib/python3.10/dist-packages (from requests->transformers) (3.10)\n",
            "Requirement already satisfied: urllib3<3,>=1.21.1 in /usr/local/lib/python3.10/dist-packages (from requests->transformers) (2.2.3)\n",
            "Requirement already satisfied: certifi>=2017.4.17 in /usr/local/lib/python3.10/dist-packages (from requests->transformers) (2024.8.30)\n"
          ]
        }
      ]
    },
    {
      "cell_type": "code",
      "execution_count": 18,
      "metadata": {
        "id": "ZAsvlCk6SlX1"
      },
      "outputs": [],
      "source": [
        "from transformers import pipeline"
      ]
    },
    {
      "cell_type": "code",
      "source": [
        "# Initialize the text generation pipeline\n",
        "text_generator = pipeline(\"text-generation\")"
      ],
      "metadata": {
        "colab": {
          "base_uri": "https://localhost:8080/"
        },
        "id": "wzZGYS1aSreY",
        "outputId": "ecc6d98b-6d37-4aba-b471-6b6410f23370"
      },
      "execution_count": 19,
      "outputs": [
        {
          "output_type": "stream",
          "name": "stderr",
          "text": [
            "No model was supplied, defaulted to openai-community/gpt2 and revision 6c0e608 (https://huggingface.co/openai-community/gpt2).\n",
            "Using a pipeline without specifying a model name and revision in production is not recommended.\n",
            "/usr/local/lib/python3.10/dist-packages/transformers/tokenization_utils_base.py:1601: FutureWarning: `clean_up_tokenization_spaces` was not set. It will be set to `True` by default. This behavior will be depracted in transformers v4.45, and will be then set to `False` by default. For more details check this issue: https://github.com/huggingface/transformers/issues/31884\n",
            "  warnings.warn(\n"
          ]
        }
      ]
    },
    {
      "cell_type": "code",
      "source": [
        "# Prompt the LLM with a starting sentence\n",
        "prompt = \"Once upon a time, there was a brave knight...\""
      ],
      "metadata": {
        "id": "Hdq2lgUISrX-"
      },
      "execution_count": 20,
      "outputs": []
    },
    {
      "cell_type": "code",
      "source": [
        "# Generate text based on the prompt\n",
        "generated_text = text_generator(prompt)"
      ],
      "metadata": {
        "colab": {
          "base_uri": "https://localhost:8080/"
        },
        "id": "KybSvDmcSrRD",
        "outputId": "eafbc790-2f36-4c81-de42-dc48203ce21f"
      },
      "execution_count": 21,
      "outputs": [
        {
          "output_type": "stream",
          "name": "stderr",
          "text": [
            "Setting `pad_token_id` to `eos_token_id`:50256 for open-end generation.\n"
          ]
        }
      ]
    },
    {
      "cell_type": "code",
      "source": [
        "# Print the generated text\n",
        "print(generated_text[0][\"generated_text\"])"
      ],
      "metadata": {
        "colab": {
          "base_uri": "https://localhost:8080/"
        },
        "id": "HA7tGLx1SrH0",
        "outputId": "49773376-ea39-40a6-8ded-6c611ff0212e"
      },
      "execution_count": 22,
      "outputs": [
        {
          "output_type": "stream",
          "name": "stdout",
          "text": [
            "Once upon a time, there was a brave knight... I've not seen that since,\" I muttered.\n",
            "\n",
            "\"You can't forget,\" said the king, a sudden and painful sigh escaping from his face, the voice of a mother saying to\n"
          ]
        }
      ]
    },
    {
      "cell_type": "code",
      "source": [
        "#and now in a loop :)\n",
        "prompt = \"How transformers work?\"\n",
        "show = pd.DataFrame()\n",
        "for i in range(1,10):\n",
        "  generated_text = text_generator(prompt)\n",
        "  print(f\"{generated_text[0]['generated_text']}\\n\")"
      ],
      "metadata": {
        "colab": {
          "base_uri": "https://localhost:8080/"
        },
        "id": "uZsM_gl5TM6i",
        "outputId": "42e7b024-20c7-44f2-9d39-fc4bb234701f"
      },
      "execution_count": 25,
      "outputs": [
        {
          "output_type": "stream",
          "name": "stderr",
          "text": [
            "Setting `pad_token_id` to `eos_token_id`:50256 for open-end generation.\n",
            "Setting `pad_token_id` to `eos_token_id`:50256 for open-end generation.\n"
          ]
        },
        {
          "output_type": "stream",
          "name": "stdout",
          "text": [
            "How transformers work?\n",
            "\n",
            "In our testing, when you set up a project-like transformation, many of the problems you face don't fit into one particular solution or approach. That's why we're taking what's known and proven as our\n",
            "\n"
          ]
        },
        {
          "output_type": "stream",
          "name": "stderr",
          "text": [
            "Setting `pad_token_id` to `eos_token_id`:50256 for open-end generation.\n"
          ]
        },
        {
          "output_type": "stream",
          "name": "stdout",
          "text": [
            "How transformers work? Here's the basic idea here:\n",
            "\n",
            "In order for the program to work, each change in the program's state can be represented as an argument of the input state change value - this is called a set.\n",
            "\n",
            "\n",
            "\n"
          ]
        },
        {
          "output_type": "stream",
          "name": "stderr",
          "text": [
            "Setting `pad_token_id` to `eos_token_id`:50256 for open-end generation.\n"
          ]
        },
        {
          "output_type": "stream",
          "name": "stdout",
          "text": [
            "How transformers work?\n",
            "\n",
            "The first thing you need to know is whether the transformer is a transformer or transformer-in. There are two common things that need to be done to get a transformer-in as it works. While the first one\n",
            "\n"
          ]
        },
        {
          "output_type": "stream",
          "name": "stderr",
          "text": [
            "Setting `pad_token_id` to `eos_token_id`:50256 for open-end generation.\n"
          ]
        },
        {
          "output_type": "stream",
          "name": "stdout",
          "text": [
            "How transformers work?\n",
            "\n",
            "Convertibles have many strengths and weaknesses. Converts must understand the principles of each of them and understand how to correctly manipulate them to their most effective ability.\n",
            "\n",
            "Converts will often have an intuitive understanding that\n",
            "\n"
          ]
        },
        {
          "output_type": "stream",
          "name": "stderr",
          "text": [
            "Setting `pad_token_id` to `eos_token_id`:50256 for open-end generation.\n"
          ]
        },
        {
          "output_type": "stream",
          "name": "stdout",
          "text": [
            "How transformers work?\n",
            "\n",
            "It is highly possible for such transformers to be used as a bridge between the standard output of the amplifier and the amplification control. This is done by using a number of special capacitors, such as DC, AC\n",
            "\n"
          ]
        },
        {
          "output_type": "stream",
          "name": "stderr",
          "text": [
            "Setting `pad_token_id` to `eos_token_id`:50256 for open-end generation.\n"
          ]
        },
        {
          "output_type": "stream",
          "name": "stdout",
          "text": [
            "How transformers work?\n",
            "\n",
            "When you turn a voltage on or off a wire, it will increase power. Now that power is divided in two units, it will become more useful in some situations. If this is the case for you, the\n",
            "\n"
          ]
        },
        {
          "output_type": "stream",
          "name": "stderr",
          "text": [
            "Setting `pad_token_id` to `eos_token_id`:50256 for open-end generation.\n"
          ]
        },
        {
          "output_type": "stream",
          "name": "stdout",
          "text": [
            "How transformers work? Well, there are three basic ways to transform: I've just mentioned to you three things on the subject of changing transitions: 1. Change the direction of view. In many cases, you are just working a small part of\n",
            "\n"
          ]
        },
        {
          "output_type": "stream",
          "name": "stderr",
          "text": [
            "Setting `pad_token_id` to `eos_token_id`:50256 for open-end generation.\n"
          ]
        },
        {
          "output_type": "stream",
          "name": "stdout",
          "text": [
            "How transformers work? I'll make a quick video that explains where I've been on my journey.\n",
            "\n",
            "There is a small group of my students named \"Boys Are Boys\" who teach themselves about gender stereotypes, gender roles, and gender\n",
            "\n",
            "How transformers work? The easiest to understand is how a device can work by using a special transistor (that is, what's connected to it) that's called an \"isotope\". Here's the diagram:\n",
            "\n",
            "The isotope\n",
            "\n"
          ]
        }
      ]
    },
    {
      "cell_type": "code",
      "source": [
        "import pandas as pd\n",
        "#looks bad in that dataframe...\n",
        "prompt = \"How transformers work?\"\n",
        "show = pd.DataFrame()\n",
        "for i in range(1,10):\n",
        "  generated_text = text_generator(prompt)\n",
        "  show = pd.concat([show, pd.DataFrame([generated_text[0]['generated_text']])], ignore_index=True)\n",
        "  print(show)"
      ],
      "metadata": {
        "colab": {
          "base_uri": "https://localhost:8080/"
        },
        "id": "f1ons7wDUU46",
        "outputId": "685e832e-c051-4c25-c792-bb43464bb7e5"
      },
      "execution_count": 26,
      "outputs": [
        {
          "output_type": "stream",
          "name": "stderr",
          "text": [
            "Setting `pad_token_id` to `eos_token_id`:50256 for open-end generation.\n",
            "Setting `pad_token_id` to `eos_token_id`:50256 for open-end generation.\n"
          ]
        },
        {
          "output_type": "stream",
          "name": "stdout",
          "text": [
            "                                                   0\n",
            "0  How transformers work? Yes, they change, with ...\n"
          ]
        },
        {
          "output_type": "stream",
          "name": "stderr",
          "text": [
            "Setting `pad_token_id` to `eos_token_id`:50256 for open-end generation.\n"
          ]
        },
        {
          "output_type": "stream",
          "name": "stdout",
          "text": [
            "                                                   0\n",
            "0  How transformers work? Yes, they change, with ...\n",
            "1  How transformers work?\\n\\nThis will be done wi...\n"
          ]
        },
        {
          "output_type": "stream",
          "name": "stderr",
          "text": [
            "Setting `pad_token_id` to `eos_token_id`:50256 for open-end generation.\n"
          ]
        },
        {
          "output_type": "stream",
          "name": "stdout",
          "text": [
            "                                                   0\n",
            "0  How transformers work? Yes, they change, with ...\n",
            "1  How transformers work?\\n\\nThis will be done wi...\n",
            "2  How transformers work?\\n\\nSo far, more and mor...\n"
          ]
        },
        {
          "output_type": "stream",
          "name": "stderr",
          "text": [
            "Setting `pad_token_id` to `eos_token_id`:50256 for open-end generation.\n"
          ]
        },
        {
          "output_type": "stream",
          "name": "stdout",
          "text": [
            "                                                   0\n",
            "0  How transformers work? Yes, they change, with ...\n",
            "1  How transformers work?\\n\\nThis will be done wi...\n",
            "2  How transformers work?\\n\\nSo far, more and mor...\n",
            "3  How transformers work?\\n\\nA transformer is des...\n"
          ]
        },
        {
          "output_type": "stream",
          "name": "stderr",
          "text": [
            "Setting `pad_token_id` to `eos_token_id`:50256 for open-end generation.\n"
          ]
        },
        {
          "output_type": "stream",
          "name": "stdout",
          "text": [
            "                                                   0\n",
            "0  How transformers work? Yes, they change, with ...\n",
            "1  How transformers work?\\n\\nThis will be done wi...\n",
            "2  How transformers work?\\n\\nSo far, more and mor...\n",
            "3  How transformers work?\\n\\nA transformer is des...\n",
            "4  How transformers work?\\n\\nThese transformers a...\n"
          ]
        },
        {
          "output_type": "stream",
          "name": "stderr",
          "text": [
            "Setting `pad_token_id` to `eos_token_id`:50256 for open-end generation.\n"
          ]
        },
        {
          "output_type": "stream",
          "name": "stdout",
          "text": [
            "                                                   0\n",
            "0  How transformers work? Yes, they change, with ...\n",
            "1  How transformers work?\\n\\nThis will be done wi...\n",
            "2  How transformers work?\\n\\nSo far, more and mor...\n",
            "3  How transformers work?\\n\\nA transformer is des...\n",
            "4  How transformers work?\\n\\nThese transformers a...\n",
            "5  How transformers work? And will changes that c...\n"
          ]
        },
        {
          "output_type": "stream",
          "name": "stderr",
          "text": [
            "Setting `pad_token_id` to `eos_token_id`:50256 for open-end generation.\n"
          ]
        },
        {
          "output_type": "stream",
          "name": "stdout",
          "text": [
            "                                                   0\n",
            "0  How transformers work? Yes, they change, with ...\n",
            "1  How transformers work?\\n\\nThis will be done wi...\n",
            "2  How transformers work?\\n\\nSo far, more and mor...\n",
            "3  How transformers work?\\n\\nA transformer is des...\n",
            "4  How transformers work?\\n\\nThese transformers a...\n",
            "5  How transformers work? And will changes that c...\n",
            "6  How transformers work?\\n\\nTransformers are eas...\n"
          ]
        },
        {
          "output_type": "stream",
          "name": "stderr",
          "text": [
            "Setting `pad_token_id` to `eos_token_id`:50256 for open-end generation.\n"
          ]
        },
        {
          "output_type": "stream",
          "name": "stdout",
          "text": [
            "                                                   0\n",
            "0  How transformers work? Yes, they change, with ...\n",
            "1  How transformers work?\\n\\nThis will be done wi...\n",
            "2  How transformers work?\\n\\nSo far, more and mor...\n",
            "3  How transformers work?\\n\\nA transformer is des...\n",
            "4  How transformers work?\\n\\nThese transformers a...\n",
            "5  How transformers work? And will changes that c...\n",
            "6  How transformers work?\\n\\nTransformers are eas...\n",
            "7  How transformers work?\\n\\nEvery transformer fr...\n",
            "                                                   0\n",
            "0  How transformers work? Yes, they change, with ...\n",
            "1  How transformers work?\\n\\nThis will be done wi...\n",
            "2  How transformers work?\\n\\nSo far, more and mor...\n",
            "3  How transformers work?\\n\\nA transformer is des...\n",
            "4  How transformers work?\\n\\nThese transformers a...\n",
            "5  How transformers work? And will changes that c...\n",
            "6  How transformers work?\\n\\nTransformers are eas...\n",
            "7  How transformers work?\\n\\nEvery transformer fr...\n",
            "8  How transformers work? Well, they work. In oth...\n"
          ]
        }
      ]
    }
  ]
}