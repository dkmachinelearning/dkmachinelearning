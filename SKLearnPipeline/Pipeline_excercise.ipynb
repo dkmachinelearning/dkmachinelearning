{
  "nbformat": 4,
  "nbformat_minor": 0,
  "metadata": {
    "colab": {
      "provenance": [],
      "authorship_tag": "ABX9TyMJ5+BC/fAL4eZ7IHhR8CKm",
      "include_colab_link": true
    },
    "kernelspec": {
      "name": "python3",
      "display_name": "Python 3"
    },
    "language_info": {
      "name": "python"
    }
  },
  "cells": [
    {
      "cell_type": "markdown",
      "metadata": {
        "id": "view-in-github",
        "colab_type": "text"
      },
      "source": [
        "<a href=\"https://colab.research.google.com/github/dkmachinelearning/dkmachinelearning/blob/main/SKLearnPipeline/Pipeline_excercise.ipynb\" target=\"_parent\"><img src=\"https://colab.research.google.com/assets/colab-badge.svg\" alt=\"Open In Colab\"/></a>"
      ]
    },
    {
      "cell_type": "code",
      "execution_count": null,
      "metadata": {
        "id": "xkPvZbOAzvv9"
      },
      "outputs": [],
      "source": [
        "# Basecode from https://blog.prokulski.science/2020/10/10/pipeline-w-scikit-learn/\n",
        "import pandas as pd\n",
        "\n",
        "# być może coś narysujemy\n",
        "import matplotlib.pyplot as plt\n",
        "import seaborn as sns\n",
        "\n",
        "import time"
      ]
    },
    {
      "cell_type": "code",
      "source": [
        "from sklearn.model_selection import train_test_split\n",
        "\n",
        "# modele\n",
        "from sklearn.dummy import DummyClassifier\n",
        "from sklearn.linear_model import LogisticRegression\n",
        "from sklearn.tree import ExtraTreeClassifier\n",
        "from sklearn.ensemble import RandomForestClassifier\n",
        "from sklearn.svm import SVC\n",
        "from sklearn.neighbors import KNeighborsClassifier\n",
        "\n",
        "# preprocessing\n",
        "## zmienne ciągłe\n",
        "from sklearn.preprocessing import StandardScaler, MinMaxScaler, Normalizer\n",
        "## zmienne kategoryczne\n",
        "from sklearn.preprocessing import OrdinalEncoder, OneHotEncoder\n",
        "\n",
        "# Pipeline\n",
        "from sklearn.pipeline import Pipeline\n",
        "from sklearn.compose import ColumnTransformer\n",
        "\n",
        "\n",
        "# dodatkowe modele spoza sklearn\n",
        "from xgboost import XGBClassifier\n",
        "from catboost import CatBoostClassifier\n",
        "from lightgbm import LGBMClassifier"
      ],
      "metadata": {
        "id": "a1QL4YB2z2yd"
      },
      "execution_count": null,
      "outputs": []
    },
    {
      "cell_type": "code",
      "source": [
        "# dane nie mają nagłówka - samo sobie nadamy nazwy kolumn\n",
        "col_names= ['age', 'work_class', 'final_weight', 'education', 'education_num',\n",
        "            'marital_status', 'occupation', 'relationship', 'race', 'sex',\n",
        "            'capital_gain', 'capital_loss', 'hours_per_week', 'native_country',\n",
        "            'year_income']\n",
        "\n",
        "# wczytujemy dane\n",
        "adult_dataset = pd.read_csv(\"data/adult.data\",\n",
        "                            engine='python', sep=', ', # tu jest przeciek i spacja!\n",
        "                            header=None, names=col_names,\n",
        "                            na_values=\"?\")\n",
        "\n",
        "# kolumna 'final_weight' do niczego się nie przyda, więc od razu ją usuwamy\n",
        "# wiadomo to z EDA, które tutaj pomijamy\n",
        "adult_dataset.drop('final_weight', axis=1, inplace=True)\n",
        "\n",
        "# usuwamy braki, żeby uprościć przykład\n",
        "adult_dataset.dropna(inplace=True)"
      ],
      "metadata": {
        "id": "VvQDn4Abz8U0"
      },
      "execution_count": null,
      "outputs": []
    },
    {
      "cell_type": "code",
      "source": [
        "adult_dataset.dtypes\n",
        "\n",
        "## age                int64\n",
        "## work_class        object\n",
        "## education         object\n",
        "## education_num      int64\n",
        "## marital_status    object\n",
        "## occupation        object\n",
        "## relationship      object\n",
        "## race              object\n",
        "## sex               object\n",
        "## capital_gain       int64\n",
        "## capital_loss       int64\n",
        "## hours_per_week     int64\n",
        "## native_country    object\n",
        "## year_income       object\n",
        "## dtype: object"
      ],
      "metadata": {
        "id": "3rZm-gA-z_nZ"
      },
      "execution_count": null,
      "outputs": []
    },
    {
      "cell_type": "code",
      "source": [
        "X_train, X_test, y_train, y_test = train_test_split(adult_dataset.drop('year_income', axis=1),\n",
        "                                                    adult_dataset['year_income'],\n",
        "                                                    test_size=0.3,\n",
        "                                                    random_state=42)"
      ],
      "metadata": {
        "id": "6typ1fE90DsY"
      },
      "execution_count": null,
      "outputs": []
    },
    {
      "cell_type": "code",
      "source": [
        "# lista kolumn numerycznych\n",
        "cols_numerical = X_train.select_dtypes(include=['int64', 'float64']).columns\n",
        "\n",
        "# transformer dla kolumn numerycznych\n",
        "transformer_numerical = Pipeline(steps = [\n",
        "    ('num_trans', StandardScaler())\n",
        "])"
      ],
      "metadata": {
        "id": "O9onGGY10Jq5"
      },
      "execution_count": null,
      "outputs": []
    },
    {
      "cell_type": "code",
      "source": [
        "# lista kolmn kategorycznych\n",
        "cols_categorical = ['work_class', 'education', 'marital_status', 'occupation',\n",
        "                    'relationship', 'race', 'sex', 'native_country']\n",
        "\n",
        "# transformer dla kolumn numerycznych\n",
        "transformer_categorical = Pipeline(steps = [\n",
        "    ('cat_trans', OneHotEncoder())\n",
        "])"
      ],
      "metadata": {
        "id": "DH9Qb_eS0ROc"
      },
      "execution_count": null,
      "outputs": []
    },
    {
      "cell_type": "code",
      "source": [
        "# preprocesor danych\n",
        "preprocessor = ColumnTransformer(transformers = [\n",
        "    ('numerical', transformer_numerical, cols_numerical),\n",
        "    ('categorical', transformer_categorical, cols_categorical)\n",
        "])"
      ],
      "metadata": {
        "id": "AncjduDa0Wvm"
      },
      "execution_count": null,
      "outputs": []
    },
    {
      "cell_type": "code",
      "source": [
        "pipe = Pipeline(steps = [\n",
        "                ('preprocessor', preprocessor),\n",
        "                ('classifier', RandomForestClassifier())\n",
        "            ])"
      ],
      "metadata": {
        "id": "Lwarc-Yw0Yd4"
      },
      "execution_count": null,
      "outputs": []
    },
    {
      "cell_type": "code",
      "source": [
        "pipe.fit(X_train, y_train)"
      ],
      "metadata": {
        "id": "fhRl36r10cDZ"
      },
      "execution_count": null,
      "outputs": []
    },
    {
      "cell_type": "code",
      "source": [
        "pipe.predict(X_test)"
      ],
      "metadata": {
        "id": "u7lewenK0gQ3"
      },
      "execution_count": null,
      "outputs": []
    },
    {
      "cell_type": "code",
      "source": [
        "pipe.predict_proba(X_test)"
      ],
      "metadata": {
        "id": "nv8baQA80jpY"
      },
      "execution_count": null,
      "outputs": []
    },
    {
      "cell_type": "code",
      "source": [
        "pipe.score(X_test, y_test)"
      ],
      "metadata": {
        "id": "0Tzeu7KX0l-I"
      },
      "execution_count": null,
      "outputs": []
    },
    {
      "cell_type": "code",
      "source": [
        "Python\n",
        "# klasyfikatory\n",
        "classifiers = [\n",
        "    DummyClassifier(strategy='stratified'),\n",
        "    LogisticRegression(max_iter=500), # można tutaj podać hiperparametry\n",
        "    KNeighborsClassifier(2), # 2 bo mamy dwie klasy\n",
        "    ExtraTreeClassifier(),\n",
        "    RandomForestClassifier(),\n",
        "    SVC(),\n",
        "    XGBClassifier(),\n",
        "    CatBoostClassifier(silent=True),\n",
        "    LGBMClassifier(verbose=-1)\n",
        "]\n",
        "\n",
        "# transformatory dla kolumn liczbowych\n",
        "scalers = [StandardScaler(), MinMaxScaler(), Normalizer()]\n",
        "\n",
        "# transformatory dla kolumn kategorycznych\n",
        "cat_transformers = [OrdinalEncoder(), OneHotEncoder()]"
      ],
      "metadata": {
        "id": "z3iJ9yF20qDj"
      },
      "execution_count": null,
      "outputs": []
    },
    {
      "cell_type": "code",
      "source": [
        "# miejsce na zebranie wyników\n",
        "models_df = pd.DataFrame()\n",
        "\n",
        "# przygotowujemy pipeline\n",
        "pipe = Pipeline(steps = [\n",
        "    ('preprocessor', preprocessor), # mniejszy pipeline\n",
        "    ('classifier', None) # to ustalimy za moment\n",
        "])\n",
        "\n",
        "# dla każdego typu modelu zmieniamy kolejne transformatory kolumn\n",
        "for model in classifiers:\n",
        "    for num_tr in scalers:\n",
        "        for cat_tr in cat_transformers:\n",
        "            # odpowiednio zmieniamy jego paramety - dobieramy transformatory\n",
        "            pipe_params = {\n",
        "                'preprocessor__numerical__num_trans': num_tr,\n",
        "                'preprocessor__categorical__cat_trans': cat_tr,\n",
        "                'classifier': model\n",
        "            }\n",
        "            pipe.set_params(**pipe_params)\n",
        "\n",
        "            # trenujemy tak przygotowany model (cały pipeline) mierząc ile to trwa\n",
        "            start_time = time.time()\n",
        "            pipe.fit(X_train, y_train)\n",
        "            end_time = time.time()\n",
        "\n",
        "            # sprawdzamy jak wyszło\n",
        "            score = pipe.score(X_test, y_test)\n",
        "\n",
        "            # zbieramy w dict parametry dla Pipeline i wyniki\n",
        "            param_dict = {\n",
        "                        'model': model.__class__.__name__,\n",
        "                        'num_trans': num_tr.__class__.__name__,\n",
        "                        'cat_trans': cat_tr.__class__.__name__,\n",
        "                        'score': score,\n",
        "                        'time_elapsed': end_time - start_time\n",
        "            }\n",
        "\n",
        "            models_df = models_df.append(pd.DataFrame(param_dict, index=[0]))\n",
        "\n",
        "models_df.reset_index(drop=True, inplace=True)"
      ],
      "metadata": {
        "id": "LBQdVPBk0p-w"
      },
      "execution_count": null,
      "outputs": []
    },
    {
      "cell_type": "code",
      "source": [
        "models_df.sort_values('score', ascending=False)"
      ],
      "metadata": {
        "id": "Oe1opdd00p5s"
      },
      "execution_count": null,
      "outputs": []
    },
    {
      "cell_type": "code",
      "source": [
        "models_df[['model', 'score', 'time_elapsed']] \\\n",
        "    .groupby('model') \\\n",
        "    .aggregate({\n",
        "        'score': ['mean','std', 'min', 'max'],\n",
        "        'time_elapsed': ['mean','std', 'min', 'max']\n",
        "        }) \\\n",
        "    .reset_index() \\\n",
        "    .sort_values(('score', 'mean'), ascending=False)"
      ],
      "metadata": {
        "id": "uqrl2sgn0p0a"
      },
      "execution_count": null,
      "outputs": []
    },
    {
      "cell_type": "code",
      "source": [
        "sns.boxplot(data=models_df, x='score', y='model')"
      ],
      "metadata": {
        "id": "XA-D27ix0pt4"
      },
      "execution_count": null,
      "outputs": []
    },
    {
      "cell_type": "code",
      "source": [
        "sns.boxplot(data=models_df, x='score', y='num_trans')"
      ],
      "metadata": {
        "id": "PVqE634E0pjA"
      },
      "execution_count": null,
      "outputs": []
    },
    {
      "cell_type": "code",
      "source": [
        "sns.boxplot(data=models_df, x='score', y='cat_trans')"
      ],
      "metadata": {
        "id": "VV2tJFn-1Kn6"
      },
      "execution_count": null,
      "outputs": []
    },
    {
      "cell_type": "code",
      "source": [
        "sns.boxplot(data=models_df, x='time_elapsed', y='model')"
      ],
      "metadata": {
        "id": "2ZAe0JZI1Lad"
      },
      "execution_count": null,
      "outputs": []
    }
  ]
}